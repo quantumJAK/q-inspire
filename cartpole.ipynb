{
 "cells": [
  {
   "cell_type": "code",
   "execution_count": 1,
   "metadata": {},
   "outputs": [],
   "source": [
    "import numpy as np"
   ]
  },
  {
   "cell_type": "code",
   "execution_count": 10,
   "metadata": {},
   "outputs": [],
   "source": [
    "\n",
    "np.pi/2\n",
    "\n",
    "def czz(phi):\n",
    "    quasm = f'''\n",
    "    CNOT q[0], q[2]\n",
    "    Rz q[2], {phi}\n",
    "    CNOT q[0], q[2]'''\n",
    "    return quasm\n",
    "\n",
    "def czy(phi):\n",
    "    quasm = f'''\n",
    "    Ry q[2], {np.pi/2}'''\n",
    "    quasm += czz(phi)\n",
    "    quasm += f'''\n",
    "    Ry q[2], {-np.pi/2}'''\n",
    "    return quasm\n",
    "\n",
    "\n",
    "\n"
   ]
  },
  {
   "cell_type": "code",
   "execution_count": 11,
   "metadata": {},
   "outputs": [
    {
     "name": "stdout",
     "output_type": "stream",
     "text": [
      "version 1.0\n",
      "qubits 5\n",
      "\n",
      "{H q[0] | H q[2]}\n",
      "    Ry q[2], 1.5707963267948966\n",
      "    CNOT q[0], q[2]\n",
      "    Rz q[2], 1.5707963267948966\n",
      "    CNOT q[0], q[2]\n",
      "    Ry q[2], -1.5707963267948966\n",
      "Measure_y q[0]\n",
      "Measure_y q[2]\n",
      "[OrderedDict([('5', 0.4296875), ('4', 0.046875), ('1', 0.5078125), ('0', 0.015625)])]\n"
     ]
    }
   ],
   "source": [
    "\"\"\"\n",
    "git clone https://github.com/QuTech-Delft/quantuminspire\n",
    "cd quantuminspire\n",
    "pip install .\n",
    "pip install .[projectq,qiskit]\n",
    "\"\"\"\t\n",
    "\n",
    "from getpass import getpass\n",
    "from coreapi.auth import BasicAuthentication\n",
    "from quantuminspire.api import QuantumInspireAPI\n",
    "from quantuminspire.qiskit import QI\n",
    "\n",
    "\n",
    "\n",
    "#Connect to QI API, If no project has been initialized yet, uncomment the 3rd line to create one\n",
    "server_url = r'https://api.quantum-inspire.com'\n",
    "authentication = BasicAuthentication(\"j.a.krzywda@liacs.leidenuniv.nl\",\"Rewolucja#93\")\n",
    "QI.set_authentication(authentication, project_name='python-test')\n",
    "qi = QuantumInspireAPI(server_url, authentication, 'cartpole')\n",
    "\n",
    "\n",
    "#Create the qasm code for the Quantum Computer/Simulator\n",
    "qasm = '''version 1.0\n",
    "qubits 5\n",
    "'''\n",
    "\n",
    "#Select the backend and make the run.\n",
    "#The result contains lots of text and URL's, but we're interested in the result of the run.\n",
    "# This  can be found in the 'histogram', ordered as: [OrderedDict({'1': 1.0})]\n",
    "\n",
    "qasm += f'''\n",
    "{{H q[0] | H q[2]}}'''\n",
    "\n",
    "qasm += czy(np.pi/2)\n",
    "qasm += f'''\n",
    "Measure_y q[0]\n",
    "Measure_y q[2]'''\n",
    "\n",
    "print(qasm)\n",
    "\n",
    "backend_type = qi.get_backend_type_by_name('Starmon-5')\n",
    "result = qi.execute_qasm(qasm, backend_type=backend_type, number_of_shots=128)\n",
    "\n",
    "if result.get('histogram', {}):\n",
    "    print(result['histogram'])\n",
    "else:\n",
    "    reason = result.get('raw_text', 'No reason in result structure.')\n",
    "    print(f'Result structure does not contain proper histogram data. {reason}')"
   ]
  },
  {
   "cell_type": "code",
   "execution_count": null,
   "metadata": {},
   "outputs": [],
   "source": []
  }
 ],
 "metadata": {
  "kernelspec": {
   "display_name": "base",
   "language": "python",
   "name": "python3"
  },
  "language_info": {
   "codemirror_mode": {
    "name": "ipython",
    "version": 3
   },
   "file_extension": ".py",
   "mimetype": "text/x-python",
   "name": "python",
   "nbconvert_exporter": "python",
   "pygments_lexer": "ipython3",
   "version": "3.1.-1"
  }
 },
 "nbformat": 4,
 "nbformat_minor": 2
}
