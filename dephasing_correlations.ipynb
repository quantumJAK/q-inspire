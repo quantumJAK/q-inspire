{
 "cells": [
  {
   "cell_type": "code",
   "execution_count": 7,
   "metadata": {},
   "outputs": [],
   "source": [
    "import numpy as np"
   ]
  },
  {
   "cell_type": "code",
   "execution_count": 2,
   "metadata": {},
   "outputs": [
    {
     "ename": "NameError",
     "evalue": "name 'FID' is not defined",
     "output_type": "error",
     "traceback": [
      "\u001b[0;31m---------------------------------------------------------------------------\u001b[0m",
      "\u001b[0;31mNameError\u001b[0m                                 Traceback (most recent call last)",
      "Cell \u001b[0;32mIn[2], line 1\u001b[0m\n\u001b[0;32m----> 1\u001b[0m a \u001b[38;5;241m=\u001b[39m \u001b[43mFID\u001b[49m(\u001b[38;5;241m5\u001b[39m, \u001b[38;5;124m\"\u001b[39m\u001b[38;5;124mx\u001b[39m\u001b[38;5;124m\"\u001b[39m, qubits \u001b[38;5;241m=\u001b[39m [\u001b[38;5;241m1\u001b[39m,\u001b[38;5;241m2\u001b[39m])\n\u001b[1;32m      2\u001b[0m \u001b[38;5;28mprint\u001b[39m(a)\n",
      "\u001b[0;31mNameError\u001b[0m: name 'FID' is not defined"
     ]
    }
   ],
   "source": [
    "a = FID(5, \"x\", qubits = [1,2])\n",
    "print(a)"
   ]
  },
  {
   "cell_type": "code",
   "execution_count": 3,
   "metadata": {},
   "outputs": [],
   "source": [
    "def FID(time, initial_phi = 0, measurment_basis = \"x\", qubits = [0,1,2,3,4]):\n",
    "    # initial state\n",
    "    qasm = \"{\"\n",
    "    for q in qubits:\n",
    "        if q == qubits[-1]:\n",
    "            qasm += f'''Ry q[{q}], {3.14/2.}'''\n",
    "        else:\n",
    "            qasm += f'''Ry q[{q}], {3.14/2.} |'''\n",
    "    qasm += \"} \\n\"\n",
    "\n",
    "    if initial_phi > 0:\n",
    "        for q in qubits:\n",
    "            if q == qubits[-1]:\n",
    "                qasm += f'''Rz q[{q}], {initial_phi}'''\n",
    "            else:\n",
    "                qasm += f'''Rz q[{q}], {initial_phi} |'''\n",
    "        qasm += \"} \\n\"\n",
    "\n",
    "    # waiting\n",
    "    for q in qubits:\n",
    "        qasm += f'''\n",
    "        Wait q[{q}], {int(time)}'''  \n",
    "    qasm += \"\\n {\"\n",
    "    \n",
    "    \n",
    "    # measurment\n",
    "    for q in qubits:\n",
    "        if q == qubits[-1]:\n",
    "            qasm += f'''Measure_{measurment_basis} q[{q}]'''\n",
    "        else:\n",
    "            qasm += f'''Measure_{measurment_basis} q[{q}] | '''\n",
    "    qasm += \"} \\n\"    \n",
    "    return qasm\n",
    "\n",
    "# translate numbetr to binary\n",
    "def translate_to_binary(number):\n",
    "    return format(number, '05b')\n",
    "def get_computational_basis(result):\n",
    "    list_out = []\n",
    "    for n in range(len(result['histogram'])):\n",
    "        list_out.append([])\n",
    "        for k in range(2**5):\n",
    "            label = translate_to_binary(k)\n",
    "            try:\n",
    "                prob = result['histogram'][n][str(k)] \n",
    "            except:\n",
    "                prob = 0\n",
    "            list_out[-1].append((label, prob))\n",
    "    return list_out\n",
    "\n",
    "\n",
    "def get_expecitations(result):\n",
    "    listout = get_computational_basis(result)\n",
    "    probabilities = np.zeros((len(listout),2,5))\n",
    "    for l,outcomes in enumerate(listout):\n",
    "        for outcome in outcomes:\n",
    "          \n",
    "            res = np.array([int(x) for x in outcome[0]])\n",
    "            for i in range(5):\n",
    "                probabilities[l,res[i],i] += outcome[1]\n",
    "\n",
    "    expectation_values = np.zeros((len(listout),5))\n",
    "    for l in range(len(listout)):\n",
    "        for i in range(5):\n",
    "            expectation_values[l,i] = probabilities[l,0,i] - probabilities[l,-1,i]\n",
    "\n",
    "\n",
    "    return expectation_values\n",
    "\n",
    "\n"
   ]
  },
  {
   "cell_type": "code",
   "execution_count": 4,
   "metadata": {},
   "outputs": [],
   "source": [
    "\n",
    "\n",
    "from getpass import getpass\n",
    "from coreapi.auth import BasicAuthentication\n",
    "from quantuminspire.api import QuantumInspireAPI\n",
    "from quantuminspire.qiskit import QI\n",
    "\n",
    "\n",
    "\n",
    "#Connect to QI API, If no project has been initialized yet, uncomment the 3rd line to create one\n",
    "server_url = r'https://api.quantum-inspire.com'\n",
    "authentication = BasicAuthentication(\"j.a.krzywda@liacs.leidenuniv.nl\",\"Rewolucja#93\")\n",
    "QI.set_authentication(authentication, project_name='python-test')\n",
    "qi = QuantumInspireAPI(server_url, authentication, 'Qit')\n",
    "\n",
    "\n",
    "backend_type = qi.get_backend_type_by_name('Starmon-5')\n",
    "\n",
    "def send_circuit(circuit, shots):\n",
    "    return qi.execute_qasm(circuit, backend_type=backend_type, number_of_shots=shots)"
   ]
  },
  {
   "cell_type": "code",
   "execution_count": 5,
   "metadata": {},
   "outputs": [],
   "source": [
    "\n",
    "def batch(times, Nmax = 8, shots = 1024, qubits = [0,1,2,3,4]):\n",
    "    intro = '''version 1.0\n",
    "    qubits 5\n",
    "    '''\n",
    "\n",
    "    expect_values = np.zeros((3,5,len(times)))\n",
    "    result_log = []\n",
    "    circ = \"\"\n",
    "    inds = []\n",
    "    for nb,b in enumerate([\"x\",\"y\",\"z\"]):\n",
    "        for tn,time in enumerate(times):\n",
    "            circ += \"{\"\n",
    "            for q in qubits:\n",
    "                if q == qubits[-1]:\n",
    "                    circ += f'''prep_z q[{q}]'''\n",
    "                else:\n",
    "                    circ += f'''prep_z q[{q}] |'''\n",
    "            circ += \"}\\n\"  \n",
    "        \n",
    "            circ += FID(time, measurment_basis = b, qubits = qubits)\n",
    "            inds.append(tn)\n",
    "            if len(inds) == Nmax or tn == len(times)-1:\n",
    "                print(intro+circ)\n",
    "                result = send_circuit(intro+circ, shots = shots)\n",
    "                result_log.append(result)\n",
    "                expect_values[nb,:,np.array(inds)] = get_expecitations(result)\n",
    "                circ = \"\"\n",
    "                inds = []\n",
    "\n",
    "    return expect_values, result_log\n",
    "            "
   ]
  },
  {
   "cell_type": "code",
   "execution_count": 6,
   "metadata": {},
   "outputs": [
    {
     "ename": "TypeError",
     "evalue": "FID() got an unexpected keyword argument 'basis'",
     "output_type": "error",
     "traceback": [
      "\u001b[0;31m---------------------------------------------------------------------------\u001b[0m",
      "\u001b[0;31mTypeError\u001b[0m                                 Traceback (most recent call last)",
      "Cell \u001b[0;32mIn[6], line 2\u001b[0m\n\u001b[1;32m      1\u001b[0m times \u001b[38;5;241m=\u001b[39m np\u001b[38;5;241m.\u001b[39mlinspace(\u001b[38;5;241m0\u001b[39m,\u001b[38;5;241m150\u001b[39m,\u001b[38;5;241m15\u001b[39m)\n\u001b[0;32m----> 2\u001b[0m expect_values, result_log \u001b[38;5;241m=\u001b[39m \u001b[43mbatch\u001b[49m\u001b[43m(\u001b[49m\u001b[43mtimes\u001b[49m\u001b[43m,\u001b[49m\u001b[43m \u001b[49m\u001b[43mshots\u001b[49m\u001b[43m \u001b[49m\u001b[38;5;241;43m=\u001b[39;49m\u001b[43m \u001b[49m\u001b[38;5;241;43m1024\u001b[39;49m\u001b[38;5;241;43m*\u001b[39;49m\u001b[38;5;241;43m2\u001b[39;49m\u001b[43m,\u001b[49m\u001b[43m \u001b[49m\u001b[43mqubits\u001b[49m\u001b[43m \u001b[49m\u001b[38;5;241;43m=\u001b[39;49m\u001b[43m \u001b[49m\u001b[43m[\u001b[49m\u001b[38;5;241;43m0\u001b[39;49m\u001b[43m,\u001b[49m\u001b[38;5;241;43m4\u001b[39;49m\u001b[43m]\u001b[49m\u001b[43m)\u001b[49m\n",
      "Cell \u001b[0;32mIn[5], line 20\u001b[0m, in \u001b[0;36mbatch\u001b[0;34m(times, Nmax, shots, qubits)\u001b[0m\n\u001b[1;32m     17\u001b[0m         circ \u001b[38;5;241m+\u001b[39m\u001b[38;5;241m=\u001b[39m \u001b[38;5;124mf\u001b[39m\u001b[38;5;124m'''\u001b[39m\u001b[38;5;124mprep_z q[\u001b[39m\u001b[38;5;132;01m{\u001b[39;00mq\u001b[38;5;132;01m}\u001b[39;00m\u001b[38;5;124m] |\u001b[39m\u001b[38;5;124m'''\u001b[39m\n\u001b[1;32m     18\u001b[0m circ \u001b[38;5;241m+\u001b[39m\u001b[38;5;241m=\u001b[39m \u001b[38;5;124m\"\u001b[39m\u001b[38;5;124m}\u001b[39m\u001b[38;5;130;01m\\n\u001b[39;00m\u001b[38;5;124m\"\u001b[39m  \n\u001b[0;32m---> 20\u001b[0m circ \u001b[38;5;241m+\u001b[39m\u001b[38;5;241m=\u001b[39m \u001b[43mFID\u001b[49m\u001b[43m(\u001b[49m\u001b[43mtime\u001b[49m\u001b[43m,\u001b[49m\u001b[43m \u001b[49m\u001b[43mbasis\u001b[49m\u001b[43m \u001b[49m\u001b[38;5;241;43m=\u001b[39;49m\u001b[43m \u001b[49m\u001b[43mb\u001b[49m\u001b[43m,\u001b[49m\u001b[43m \u001b[49m\u001b[43mqubits\u001b[49m\u001b[43m \u001b[49m\u001b[38;5;241;43m=\u001b[39;49m\u001b[43m \u001b[49m\u001b[43mqubits\u001b[49m\u001b[43m)\u001b[49m\n\u001b[1;32m     21\u001b[0m inds\u001b[38;5;241m.\u001b[39mappend(tn)\n\u001b[1;32m     22\u001b[0m \u001b[38;5;28;01mif\u001b[39;00m \u001b[38;5;28mlen\u001b[39m(inds) \u001b[38;5;241m==\u001b[39m Nmax \u001b[38;5;129;01mor\u001b[39;00m tn \u001b[38;5;241m==\u001b[39m \u001b[38;5;28mlen\u001b[39m(times)\u001b[38;5;241m-\u001b[39m\u001b[38;5;241m1\u001b[39m:\n",
      "\u001b[0;31mTypeError\u001b[0m: FID() got an unexpected keyword argument 'basis'"
     ]
    }
   ],
   "source": [
    "times = np.linspace(0,150,15)\n",
    "expect_values, result_log = batch(times, shots = 1024*2, qubits = [0,4])"
   ]
  },
  {
   "cell_type": "code",
   "execution_count": 98,
   "metadata": {},
   "outputs": [
    {
     "data": {
      "text/plain": [
       "array([[0.98046875, 0.98632812, 0.98632812, 0.95703125, 0.9609375 ],\n",
       "       [0.98828125, 0.98828125, 0.94726562, 0.92382812, 0.95898438],\n",
       "       [0.98242188, 0.95507812, 0.90625   , 0.91210938, 0.97851562],\n",
       "       [0.97265625, 0.953125  , 0.8125    , 0.91796875, 0.94921875],\n",
       "       [0.97265625, 0.94140625, 0.70507812, 0.91015625, 0.95703125],\n",
       "       [0.96289062, 0.88867188, 0.546875  , 0.85351562, 0.921875  ],\n",
       "       [0.95117188, 0.87890625, 0.42578125, 0.8828125 , 0.8671875 ],\n",
       "       [0.92773438, 0.81445312, 0.25      , 0.87109375, 0.859375  ]])"
      ]
     },
     "execution_count": 98,
     "metadata": {},
     "output_type": "execute_result"
    }
   ],
   "source": [
    "get_expecitations(result_log[0])"
   ]
  },
  {
   "cell_type": "code",
   "execution_count": 31,
   "metadata": {},
   "outputs": [],
   "source": [
    "\n",
    "#Create the qasm code for the Quantum Computer/Simulator\n",
    "x_measure = '''version 1.0\n",
    "qubits 5\n",
    "'''\n",
    "times = np.linspace(0, 32, 9)[1:]\n",
    "for time in times:\n",
    "    x_measure += FID(time, basis=\"x\")\n",
    "    x_measure += f'''\n",
    "    {{prep_z q[0] | prep_z q[1] | prep_z q[2] | prep_z q[3] | prep_z q[4]}}'''\n",
    "\n",
    "\n",
    "#Create the qasm code for the Quantum Computer/Simulator\n",
    "y_measure = '''version 1.0\n",
    "qubits 5\n",
    "'''\n",
    "times = np.linspace(0, 32, 9)[1:]\n",
    "for time in times:\n",
    "    y_measure += FID(time, basis = \"y\")\n",
    "    y_measure += f'''\n",
    "    {{prep_z q[0] | prep_z q[1] | prep_z q[2] | prep_z q[3] | prep_z q[4]}}'''\n",
    "\n",
    "\n",
    "\n",
    "\n",
    "#Select the backend and make the run.\n",
    "#The result contains lots of text and URL's, but we're interested in the result of the run.\n",
    "# This  can be found in the 'histogram', ordered as: [OrderedDict({'1': 1.0})]\n",
    "resultx = qi.execute_qasm(x_measure, backend_type=backend_type, number_of_shots=1024*8)\n",
    "resulty = qi.execute_qasm(y_measure, backend_type=backend_type, number_of_shots=1024*8)"
   ]
  },
  {
   "cell_type": "code",
   "execution_count": 27,
   "metadata": {},
   "outputs": [],
   "source": [
    "# translate numbetr to binary\n",
    "def translate_to_binary(number):\n",
    "    return format(number, '05b')\n",
    "def get_computational_basis(result):\n",
    "    list_out = []\n",
    "    for n in range(len(result['histogram'])):\n",
    "        list_out.append([])\n",
    "        for k in range(2**5):\n",
    "            label = translate_to_binary(k)\n",
    "            try:\n",
    "                prob = result['histogram'][n][str(k)] \n",
    "            except:\n",
    "                prob = 0\n",
    "            list_out[-1].append((label, prob))\n",
    "    return list_out\n",
    "\n",
    "\n",
    "def get_expecitations(result):\n",
    "    listout = get_computational_basis(result)\n",
    "    probabilities = np.zeros((len(listout),2,5))\n",
    "    for l,outcomes in enumerate(listout):\n",
    "        for outcome in outcomes:\n",
    "          \n",
    "            res = np.array([int(x) for x in outcome[0]])\n",
    "            for i in range(5):\n",
    "                probabilities[l,res[i],i] += outcome[1]\n",
    "\n",
    "    expectation_values = np.zeros((len(listout),5))\n",
    "    for l in range(len(listout)):\n",
    "        for i in range(5):\n",
    "            expectation_values[l,i] = probabilities[l,0,i] - probabilities[l,-1,i]\n",
    "\n",
    "\n",
    "    return expectation_values"
   ]
  },
  {
   "cell_type": "code",
   "execution_count": 9,
   "metadata": {},
   "outputs": [
    {
     "ename": "NameError",
     "evalue": "name 'resultx' is not defined",
     "output_type": "error",
     "traceback": [
      "\u001b[0;31m---------------------------------------------------------------------------\u001b[0m",
      "\u001b[0;31mNameError\u001b[0m                                 Traceback (most recent call last)",
      "Cell \u001b[0;32mIn[9], line 1\u001b[0m\n\u001b[0;32m----> 1\u001b[0m expectx \u001b[38;5;241m=\u001b[39m get_expecitations(\u001b[43mresultx\u001b[49m)\n\u001b[1;32m      2\u001b[0m expecty \u001b[38;5;241m=\u001b[39m get_expecitations(resulty)\n",
      "\u001b[0;31mNameError\u001b[0m: name 'resultx' is not defined"
     ]
    }
   ],
   "source": [
    "expectx = get_expecitations(resultx)\n",
    "expecty = get_expecitations(resulty)"
   ]
  }
 ],
 "metadata": {
  "kernelspec": {
   "display_name": "base",
   "language": "python",
   "name": "python3"
  },
  "language_info": {
   "codemirror_mode": {
    "name": "ipython",
    "version": 3
   },
   "file_extension": ".py",
   "mimetype": "text/x-python",
   "name": "python",
   "nbconvert_exporter": "python",
   "pygments_lexer": "ipython3",
   "version": "3.1.-1"
  }
 },
 "nbformat": 4,
 "nbformat_minor": 2
}
