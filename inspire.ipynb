{
 "cells": [
  {
   "cell_type": "code",
   "execution_count": null,
   "metadata": {},
   "outputs": [],
   "source": []
  },
  {
   "cell_type": "code",
   "execution_count": 5,
   "metadata": {},
   "outputs": [],
   "source": [
    "import numpy as np"
   ]
  },
  {
   "cell_type": "code",
   "execution_count": 7,
   "metadata": {},
   "outputs": [
    {
     "name": "stdout",
     "output_type": "stream",
     "text": [
      "[OrderedDict([('0', 1.0)]), OrderedDict([('1', 0.515625), ('0', 0.484375)])]\n"
     ]
    }
   ],
   "source": [
    "\"\"\"\n",
    "git clone https://github.com/QuTech-Delft/quantuminspire\n",
    "cd quantuminspire\n",
    "pip install .\n",
    "pip install .[projectq,qiskit]\n",
    "\"\"\"\t\n",
    "\n",
    "from getpass import getpass\n",
    "from coreapi.auth import BasicAuthentication\n",
    "from quantuminspire.api import QuantumInspireAPI\n",
    "from quantuminspire.qiskit import QI\n",
    "\n",
    "\n",
    "\n",
    "#Connect to QI API, If no project has been initialized yet, uncomment the 3rd line to create one\n",
    "server_url = r'https://api.quantum-inspire.com'\n",
    "authentication = BasicAuthentication(\"j.a.krzywda@liacs.leidenuniv.nl\",\"Rewolucja#93\")\n",
    "QI.set_authentication(authentication, project_name='python-test')\n",
    "qi = QuantumInspireAPI(server_url, authentication, 'Qit')\n",
    "\n",
    "\n",
    "#Create the qasm code for the Quantum Computer/Simulator\n",
    "qasm = '''version 1.0\n",
    "\n",
    "\n",
    "qubits 5\n",
    "measure_z q[0]\n",
    "\n",
    "measure_x q[0]\n",
    "'''\n",
    "\n",
    "#Select the backend and make the run.\n",
    "#The result contains lots of text and URL's, but we're interested in the result of the run.\n",
    "# This  can be found in the 'histogram', ordered as: [OrderedDict({'1': 1.0})]\n",
    "backend_type = qi.get_backend_type_by_name('Starmon-5')\n",
    "result = qi.execute_qasm(qasm, backend_type=backend_type, number_of_shots=128)\n",
    "\n",
    "if result.get('histogram', {}):\n",
    "    print(result['histogram'])\n",
    "else:\n",
    "    reason = result.get('raw_text', 'No reason in result structure.')\n",
    "    print(f'Result structure does not contain proper histogram data. {reason}')"
   ]
  },
  {
   "cell_type": "markdown",
   "metadata": {},
   "source": []
  },
  {
   "cell_type": "code",
   "execution_count": 13,
   "metadata": {},
   "outputs": [],
   "source": [
    "   init = f'''\n",
    "    qubits 5\n",
    "    {{h q[0] | h q[1] | h q[2] | h q[3] | h q[4]}}\n",
    "    {{Wait q[0], {int(tau/2)} | Wait q[1], {int(tau/2)} | Wait q[2], {int(tau/2)} | Wait q[3], {int(tau/2)} | Wait q[4], {int(tau/2)}}}\n",
    "    {{Y q[0] | Y q[1] | Y q[2] | Y q[3] | Y q[4]}}\n",
    "    '''"
   ]
  },
  {
   "cell_type": "code",
   "execution_count": 14,
   "metadata": {},
   "outputs": [
    {
     "data": {
      "text/plain": [
       "'\\n qubits 5\\n {h q[0] | h q[1] | h q[2] | h q[3] | h q[4]}\\n {Wait q[0], 50 | Wait q[1], 50 | Wait q[2], 50 | Wait q[3], 50 | Wait q[4], 50}\\n {Y q[0] | Y q[1] | Y q[2] | Y q[3] | Y q[4]}\\n '"
      ]
     },
     "execution_count": 14,
     "metadata": {},
     "output_type": "execute_result"
    }
   ],
   "source": [
    "init"
   ]
  },
  {
   "cell_type": "code",
   "execution_count": 48,
   "metadata": {},
   "outputs": [
    {
     "name": "stdout",
     "output_type": "stream",
     "text": [
      "\n",
      "    {h q[0] | h q[1] | h q[2] | h q[3] | h q[4]}\n",
      "    Wait q[0], 1 \n",
      "    Wait q[1], 1\n",
      "    Wait q[2], 1\n",
      "    Wait q[3], 1\n",
      "    Wait q[4], 1\n",
      "    {Y q[0] | Y q[1] | Y q[2] | Y q[3] | Y q[4]}\n",
      "    Wait q[0], 2 \n",
      "    Wait q[1], 2 \n",
      "    Wait q[2], 2\n",
      "    Wait q[3], 2\n",
      "    Wait q[4], 2\n",
      "    {Y q[0] | Y q[1] | Y q[2] | Y q[3] | Y q[4]}\n",
      "    Wait q[0], 2 \n",
      "    Wait q[1], 2 \n",
      "    Wait q[2], 2\n",
      "    Wait q[3], 2\n",
      "    Wait q[4], 2\n",
      "    {Y q[0] | Y q[1] | Y q[2] | Y q[3] | Y q[4]}\n",
      "    Wait q[0], 2 \n",
      "    Wait q[1], 2 \n",
      "    Wait q[2], 2\n",
      "    Wait q[3], 2\n",
      "    Wait q[4], 2\n",
      "    {Y q[0] | Y q[1] | Y q[2] | Y q[3] | Y q[4]}\n",
      "    Wait q[0], 1 \n",
      "    Wait q[1], 1\n",
      "    Wait q[2], 1\n",
      "    Wait q[3], 1\n",
      "    Wait q[4], 1\n",
      "    {h q[0] | h q[1] | h q[2] | h q[3] | h q[4]}\n",
      "    {measure_z q[0] | measure_z q[1] | measure_z q[2] | measure_z q[3] | measure_z q[4]}\n",
      "\n",
      "    {h q[0] | h q[1] | h q[2] | h q[3] | h q[4]}\n",
      "    Wait q[0], 1 \n",
      "    Wait q[1], 1\n",
      "    Wait q[2], 1\n",
      "    Wait q[3], 1\n",
      "    Wait q[4], 1\n",
      "    {Y q[0] | Y q[1] | Y q[2] | Y q[3] | Y q[4]}\n",
      "    Wait q[0], 2 \n",
      "    Wait q[1], 2 \n",
      "    Wait q[2], 2\n",
      "    Wait q[3], 2\n",
      "    Wait q[4], 2\n",
      "    {Y q[0] | Y q[1] | Y q[2] | Y q[3] | Y q[4]}\n",
      "    Wait q[0], 2 \n",
      "    Wait q[1], 2 \n",
      "    Wait q[2], 2\n",
      "    Wait q[3], 2\n",
      "    Wait q[4], 2\n",
      "    {Y q[0] | Y q[1] | Y q[2] | Y q[3] | Y q[4]}\n",
      "    Wait q[0], 2 \n",
      "    Wait q[1], 2 \n",
      "    Wait q[2], 2\n",
      "    Wait q[3], 2\n",
      "    Wait q[4], 2\n",
      "    {Y q[0] | Y q[1] | Y q[2] | Y q[3] | Y q[4]}\n",
      "    Wait q[0], 2 \n",
      "    Wait q[1], 2 \n",
      "    Wait q[2], 2\n",
      "    Wait q[3], 2\n",
      "    Wait q[4], 2\n",
      "    {Y q[0] | Y q[1] | Y q[2] | Y q[3] | Y q[4]}\n",
      "    Wait q[0], 2 \n",
      "    Wait q[1], 2 \n",
      "    Wait q[2], 2\n",
      "    Wait q[3], 2\n",
      "    Wait q[4], 2\n",
      "    {Y q[0] | Y q[1] | Y q[2] | Y q[3] | Y q[4]}\n",
      "    Wait q[0], 1 \n",
      "    Wait q[1], 1\n",
      "    Wait q[2], 1\n",
      "    Wait q[3], 1\n",
      "    Wait q[4], 1\n",
      "    {h q[0] | h q[1] | h q[2] | h q[3] | h q[4]}\n",
      "    {measure_z q[0] | measure_z q[1] | measure_z q[2] | measure_z q[3] | measure_z q[4]}\n",
      "[OrderedDict([('28', 0.0029296875), ('22', 0.0009765625), ('21', 0.0009765625), ('20', 0.01953125), ('16', 0.0078125), ('15', 0.0009765625), ('14', 0.0009765625), ('12', 0.0224609375), ('10', 0.001953125), ('8', 0.0087890625), ('7', 0.001953125), ('6', 0.0126953125), ('5', 0.015625), ('4', 0.0087890625), ('3', 0.0009765625), ('2', 0.05078125), ('1', 0.0205078125), ('0', 0.8212890625)]), OrderedDict([('30', 0.0009765625), ('28', 0.001953125), ('26', 0.0009765625), ('24', 0.0029296875), ('22', 0.0068359375), ('21', 0.001953125), ('20', 0.03125), ('18', 0.001953125), ('17', 0.0009765625), ('16', 0.0166015625), ('14', 0.001953125), ('13', 0.0029296875), ('12', 0.0546875), ('10', 0.00390625), ('9', 0.00390625), ('8', 0.015625), ('7', 0.0087890625), ('6', 0.029296875), ('5', 0.04296875), ('4', 0.0234375), ('3', 0.0029296875), ('2', 0.080078125), ('1', 0.0244140625), ('0', 0.638671875)])]\n"
     ]
    }
   ],
   "source": [
    "def spectroscopic_pulse(tau, N):\n",
    "    #Create the qasm code for the Quantum Computer/Simulator\n",
    "    init = f'''\n",
    "    {{h q[0] | h q[1] | h q[2] | h q[3] | h q[4]}}\n",
    "    Wait q[0], {int(tau/2)} \n",
    "    Wait q[1], {int(tau/2)}\n",
    "    Wait q[2], {int(tau/2)}\n",
    "    Wait q[3], {int(tau/2)}\n",
    "    Wait q[4], {int(tau/2)}\n",
    "    {{Y q[0] | Y q[1] | Y q[2] | Y q[3] | Y q[4]}}'''\n",
    "\n",
    "    segment = f'''\n",
    "    Wait q[0], {tau} \n",
    "    Wait q[1], {tau} \n",
    "    Wait q[2], {tau}\n",
    "    Wait q[3], {tau}\n",
    "    Wait q[4], {tau}\n",
    "    {{Y q[0] | Y q[1] | Y q[2] | Y q[3] | Y q[4]}}'''\n",
    "\n",
    "    readout = f'''\n",
    "    Wait q[0], {int(tau/2)} \n",
    "    Wait q[1], {int(tau/2)}\n",
    "    Wait q[2], {int(tau/2)}\n",
    "    Wait q[3], {int(tau/2)}\n",
    "    Wait q[4], {int(tau/2)}\n",
    "    {{h q[0] | h q[1] | h q[2] | h q[3] | h q[4]}}\n",
    "    {{measure_z q[0] | measure_z q[1] | measure_z q[2] | measure_z q[3] | measure_z q[4]}}'''\n",
    "\n",
    "    pulse = init + (2*N-1)*segment + readout\n",
    "    print(pulse)\n",
    "    return pulse\n",
    "\n",
    "\"\"\"\n",
    "git clone https://github.com/QuTech-Delft/quantuminspire\n",
    "cd quantuminspire\n",
    "pip install .\n",
    "pip install .[projectq,qiskit]\n",
    "\"\"\"\t\n",
    "\n",
    "from getpass import getpass\n",
    "from coreapi.auth import BasicAuthentication\n",
    "from quantuminspire.api import QuantumInspireAPI\n",
    "from quantuminspire.qiskit import QI\n",
    "\n",
    "\n",
    "\n",
    "#Connect to QI API, If no project has been initialized yet, uncomment the 3rd line to create one\n",
    "server_url = r'https://api.quantum-inspire.com'\n",
    "authentication = BasicAuthentication(\"j.a.krzywda@liacs.leidenuniv.nl\",\"Rewolucja#93\")\n",
    "QI.set_authentication(authentication, project_name='python-test')\n",
    "qi = QuantumInspireAPI(server_url, authentication, 'Qit')\n",
    "\n",
    "tau = 2\n",
    "N = 2\n",
    "qasm = f'''version 1.0\n",
    "qubits 5\n",
    "'''\n",
    "qasm += spectroscopic_pulse(tau, N)\n",
    "qasm += spectroscopic_pulse(tau, N+1)\n",
    "    #Select the backend and make the run.\n",
    "    #The result contains lots of text and URL's, but we're interested in the result of the run.\n",
    "# This  can be found in the 'histogram', ordered as: [OrderedDict({'1': 1.0})]\n",
    "backend_type = qi.get_backend_type_by_name('Starmon-5')\n",
    "result = qi.execute_qasm(qasm, backend_type=backend_type, number_of_shots=1024)\n",
    "\n",
    "qi.execute_qasm\n",
    "if result.get('histogram', {}):\n",
    "    print(result['histogram'])\n",
    "else:\n",
    "    reason = result.get('raw_text', 'No reason in result structure.')\n",
    "    print(f'Result structure does not contain proper histogram data. {reason}')"
   ]
  },
  {
   "cell_type": "code",
   "execution_count": 52,
   "metadata": {},
   "outputs": [
    {
     "data": {
      "text/plain": [
       "OrderedDict([('30', 0.0009765625),\n",
       "             ('28', 0.001953125),\n",
       "             ('26', 0.0009765625),\n",
       "             ('24', 0.0029296875),\n",
       "             ('22', 0.0068359375),\n",
       "             ('21', 0.001953125),\n",
       "             ('20', 0.03125),\n",
       "             ('18', 0.001953125),\n",
       "             ('17', 0.0009765625),\n",
       "             ('16', 0.0166015625),\n",
       "             ('14', 0.001953125),\n",
       "             ('13', 0.0029296875),\n",
       "             ('12', 0.0546875),\n",
       "             ('10', 0.00390625),\n",
       "             ('9', 0.00390625),\n",
       "             ('8', 0.015625),\n",
       "             ('7', 0.0087890625),\n",
       "             ('6', 0.029296875),\n",
       "             ('5', 0.04296875),\n",
       "             ('4', 0.0234375),\n",
       "             ('3', 0.0029296875),\n",
       "             ('2', 0.080078125),\n",
       "             ('1', 0.0244140625),\n",
       "             ('0', 0.638671875)])"
      ]
     },
     "execution_count": 52,
     "metadata": {},
     "output_type": "execute_result"
    }
   ],
   "source": [
    "result['histogram'][1]"
   ]
  },
  {
   "cell_type": "code",
   "execution_count": 67,
   "metadata": {},
   "outputs": [],
   "source": [
    "def get_computational_basis(result):\n",
    "    list_out = []\n",
    "    for n in range(len(result['histogram'])):\n",
    "        list_out.append([])\n",
    "        for k in range(2**5):\n",
    "            label = translate_to_binary(k)\n",
    "            try:\n",
    "                prob = result['histogram'][n][str(k)] \n",
    "            except:\n",
    "                prob = 0\n",
    "            list_out[-1].append((label, prob))\n",
    "    return list_out\n",
    "\n",
    "\n",
    "def get_expecitations(result):\n",
    "    listout = get_computational_basis(result)\n",
    "    expectations = []\n",
    "    for n in range(len(listout)):\n",
    "        expectations.append(0)\n",
    "        for k in range(len(listout[n])):\n",
    "            label = listout[n][k][0]\n",
    "            prob = listout[n][k][1]\n",
    "            expectations[n] += prob*get_expectation(label)"
   ]
  },
  {
   "cell_type": "code",
   "execution_count": 68,
   "metadata": {},
   "outputs": [],
   "source": [
    "listout = get_expectations(result)"
   ]
  },
  {
   "cell_type": "code",
   "execution_count": 69,
   "metadata": {},
   "outputs": [
    {
     "ename": "AttributeError",
     "evalue": "'list' object has no attribute 'keys'",
     "output_type": "error",
     "traceback": [
      "\u001b[0;31m---------------------------------------------------------------------------\u001b[0m",
      "\u001b[0;31mAttributeError\u001b[0m                            Traceback (most recent call last)",
      "Cell \u001b[0;32mIn[69], line 1\u001b[0m\n\u001b[0;32m----> 1\u001b[0m \u001b[43mlistout\u001b[49m\u001b[43m[\u001b[49m\u001b[38;5;241;43m0\u001b[39;49m\u001b[43m]\u001b[49m\u001b[38;5;241;43m.\u001b[39;49m\u001b[43mkeys\u001b[49m\n",
      "\u001b[0;31mAttributeError\u001b[0m: 'list' object has no attribute 'keys'"
     ]
    }
   ],
   "source": [
    "listout[0].keys"
   ]
  },
  {
   "cell_type": "code",
   "execution_count": 53,
   "metadata": {},
   "outputs": [
    {
     "name": "stdout",
     "output_type": "stream",
     "text": [
      "00000 0.8212890625\n",
      "00001 0.0205078125\n",
      "00010 0.05078125\n",
      "00011 0.0009765625\n",
      "00100 0.0087890625\n",
      "00101 0.015625\n",
      "00110 0.0126953125\n",
      "00111 0.001953125\n",
      "01000 0.0087890625\n",
      "01001 0\n",
      "01010 0.001953125\n",
      "01011 0\n",
      "01100 0.0224609375\n",
      "01101 0\n",
      "01110 0.0009765625\n",
      "01111 0.0009765625\n",
      "10000 0.0078125\n",
      "10001 0\n",
      "10010 0\n",
      "10011 0\n",
      "10100 0.01953125\n",
      "10101 0.0009765625\n",
      "10110 0.0009765625\n",
      "10111 0\n",
      "11000 0\n",
      "11001 0\n",
      "11010 0\n",
      "11011 0\n",
      "11100 0.0029296875\n",
      "11101 0\n",
      "11110 0\n",
      "11111 0\n"
     ]
    }
   ],
   "source": [
    "for k in range(2**5):\n",
    "    try:\n",
    "        print(translate_to_binary(k), result['histogram'][0][str(k)])\n",
    "    except KeyError:\n",
    "        print(translate_to_binary(k), 0)"
   ]
  },
  {
   "cell_type": "code",
   "execution_count": 44,
   "metadata": {},
   "outputs": [],
   "source": [
    "# translate numbetr to binary\n",
    "def translate_to_binary(number):\n",
    "    return format(number, '05b')"
   ]
  },
  {
   "cell_type": "code",
   "execution_count": 23,
   "metadata": {},
   "outputs": [],
   "source": [
    "from qiskit import QuantumRegister, ClassicalRegister, QuantumCircuit\n",
    "from numpy import pi\n",
    "\n",
    "qreg_q = QuantumRegister(2, 'q')\n",
    "creg_c = ClassicalRegister(2, 'c')\n",
    "circuit = QuantumCircuit(qreg_q, creg_c)\n",
    "\n",
    "circuit.h(qreg_q[0])\n",
    "circuit.cx(qreg_q[1], qreg_q[0])\n",
    "circuit.h(qreg_q[0])\n",
    "\n",
    "import qiskit.quantum_info as qi\n",
    "\n",
    "op = qi.Operator(circuit)"
   ]
  },
  {
   "cell_type": "code",
   "execution_count": 17,
   "metadata": {},
   "outputs": [
    {
     "data": {
      "text/plain": [
       "array([ 0.        +0.j,  0.        +0.j,  0.70710678+0.j, -0.70710678+0.j])"
      ]
     },
     "execution_count": 17,
     "metadata": {},
     "output_type": "execute_result"
    }
   ],
   "source": [
    "np.dot(op.data,np.array([1,0,0,0]))"
   ]
  },
  {
   "cell_type": "code",
   "execution_count": 24,
   "metadata": {},
   "outputs": [
    {
     "data": {
      "text/plain": [
       "array([[ 1.+0.j,  0.+0.j,  0.+0.j,  0.+0.j],\n",
       "       [ 0.+0.j,  1.+0.j,  0.+0.j,  0.+0.j],\n",
       "       [ 0.+0.j,  0.+0.j,  1.+0.j,  0.+0.j],\n",
       "       [ 0.+0.j,  0.+0.j,  0.+0.j, -1.+0.j]])"
      ]
     },
     "execution_count": 24,
     "metadata": {},
     "output_type": "execute_result"
    }
   ],
   "source": [
    "op.data"
   ]
  },
  {
   "cell_type": "code",
   "execution_count": null,
   "metadata": {},
   "outputs": [],
   "source": []
  }
 ],
 "metadata": {
  "kernelspec": {
   "display_name": "base",
   "language": "python",
   "name": "python3"
  },
  "language_info": {
   "codemirror_mode": {
    "name": "ipython",
    "version": 3
   },
   "file_extension": ".py",
   "mimetype": "text/x-python",
   "name": "python",
   "nbconvert_exporter": "python",
   "pygments_lexer": "ipython3",
   "version": "3.1.-1"
  }
 },
 "nbformat": 4,
 "nbformat_minor": 2
}
